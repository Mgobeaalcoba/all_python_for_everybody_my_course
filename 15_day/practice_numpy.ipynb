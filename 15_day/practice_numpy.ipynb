{
  "cells": [
    {
      "cell_type": "markdown",
      "metadata": {
        "id": "MuYB4pE_viZG"
      },
      "source": [
        "# Práctica de la librería Numpy\n",
        "\n",
        "En este notebook, se desarrollarán una serie de tareas utilizando la librería Numpy (Numerical Python).\n",
        "\n",
        "Se proponen y documentan posibles formas de resolver los ejercicios, pero las mismas no son únicas.\n",
        "\n",
        "Siempre es una buena idea verificar la [Documentación Oficial de Numpy](https://numpy.org/devdocs/user/index.html), donde es posible encontrar todo tipo de información referida a esta librería. Y si te quedas trabado, busca en Google \"como hacer [algo] con Numpy\". Hay enormes probabilidades de que esa pregunta ya haya sido respondida!"
      ]
    },
    {
      "cell_type": "code",
      "execution_count": 1,
      "metadata": {
        "id": "Hrz__kvsviZL"
      },
      "outputs": [],
      "source": [
        "# Importamos Numpy con su abreviación \"np\"\n",
        "import numpy as np"
      ]
    },
    {
      "cell_type": "code",
      "execution_count": 2,
      "metadata": {
        "id": "9fwuO-3_viZM"
      },
      "outputs": [
        {
          "name": "stdout",
          "output_type": "stream",
          "text": [
            "[1 2 3 4 5]\n",
            "[[1 2 3]\n",
            " [4 5 6]]\n",
            "[[[ 1  2  3]\n",
            "  [ 4  5  6]]\n",
            "\n",
            " [[ 7  8  9]\n",
            "  [-4 -5 -6]]]\n"
          ]
        }
      ],
      "source": [
        "# Podemos crear arrays de una dimensión con la función np.array()\n",
        "array_unidim = np.array([1,2,3,4,5])\n",
        "\n",
        "# O un array de dos dimensiones (bidimensional)\n",
        "array_bidim = np.array([[1,2,3],\n",
        "                        [4,5,6]])\n",
        "\n",
        "# O un array de tres dimensiones (tridimensional)\n",
        "array_tridim = np.array([[[1,2,3],\n",
        "                        [4,5,6]],\n",
        "                        [[7,8,9],\n",
        "                        [-4,-5,-6]]])\n",
        "\n",
        "print(array_unidim)\n",
        "print(array_bidim)\n",
        "print(array_tridim)"
      ]
    },
    {
      "cell_type": "markdown",
      "metadata": {
        "id": "qp2_ZpJXviZN"
      },
      "source": [
        "Para cada uno de estos arrays, podemos obtener sus propiedades, tales como su \"forma\", número de dimensiones, tipos de datos y tamaño."
      ]
    },
    {
      "cell_type": "code",
      "execution_count": 5,
      "metadata": {
        "id": "m2HD8334viZN"
      },
      "outputs": [
        {
          "name": "stdout",
          "output_type": "stream",
          "text": [
            "(5,)\n",
            "1\n",
            "int32\n",
            "5\n",
            "<class 'numpy.ndarray'>\n"
          ]
        }
      ],
      "source": [
        "# Atributos del array unidimensional (forma, número de dimensiones, tipos de datos, tamaño, y tipo)\n",
        "print(array_unidim.shape)\n",
        "print(array_unidim.ndim)\n",
        "print(array_unidim.dtype)\n",
        "print(array_unidim.size)\n",
        "print(type(array_unidim))"
      ]
    },
    {
      "cell_type": "code",
      "execution_count": 6,
      "metadata": {
        "id": "CW6dU4z6viZO"
      },
      "outputs": [
        {
          "name": "stdout",
          "output_type": "stream",
          "text": [
            "(2, 3)\n",
            "2\n",
            "int32\n",
            "6\n",
            "<class 'numpy.ndarray'>\n"
          ]
        }
      ],
      "source": [
        "# Atributos del array bidimensional\n",
        "print(array_bidim.shape)\n",
        "print(array_bidim.ndim)\n",
        "print(array_bidim.dtype)\n",
        "print(array_bidim.size)\n",
        "print(type(array_bidim))"
      ]
    },
    {
      "cell_type": "code",
      "execution_count": 7,
      "metadata": {
        "id": "2dQw-98tviZP"
      },
      "outputs": [
        {
          "name": "stdout",
          "output_type": "stream",
          "text": [
            "(2, 2, 3)\n",
            "3\n",
            "int32\n",
            "12\n",
            "<class 'numpy.ndarray'>\n"
          ]
        }
      ],
      "source": [
        "# Atributos del array tridimensional\n",
        "print(array_tridim.shape) # Primero viene la profundidad, luego el alto y finalmente el ancho\n",
        "print(array_tridim.ndim)\n",
        "print(array_tridim.dtype)\n",
        "print(array_tridim.size)\n",
        "print(type(array_tridim))"
      ]
    },
    {
      "cell_type": "code",
      "execution_count": 8,
      "metadata": {
        "id": "bqWXuSpEviZQ"
      },
      "outputs": [
        {
          "data": {
            "text/html": [
              "<div>\n",
              "<style scoped>\n",
              "    .dataframe tbody tr th:only-of-type {\n",
              "        vertical-align: middle;\n",
              "    }\n",
              "\n",
              "    .dataframe tbody tr th {\n",
              "        vertical-align: top;\n",
              "    }\n",
              "\n",
              "    .dataframe thead th {\n",
              "        text-align: right;\n",
              "    }\n",
              "</style>\n",
              "<table border=\"1\" class=\"dataframe\">\n",
              "  <thead>\n",
              "    <tr style=\"text-align: right;\">\n",
              "      <th></th>\n",
              "      <th>0</th>\n",
              "      <th>1</th>\n",
              "      <th>2</th>\n",
              "    </tr>\n",
              "  </thead>\n",
              "  <tbody>\n",
              "    <tr>\n",
              "      <th>0</th>\n",
              "      <td>1</td>\n",
              "      <td>2</td>\n",
              "      <td>3</td>\n",
              "    </tr>\n",
              "    <tr>\n",
              "      <th>1</th>\n",
              "      <td>4</td>\n",
              "      <td>5</td>\n",
              "      <td>6</td>\n",
              "    </tr>\n",
              "  </tbody>\n",
              "</table>\n",
              "</div>"
            ],
            "text/plain": [
              "   0  1  2\n",
              "0  1  2  3\n",
              "1  4  5  6"
            ]
          },
          "execution_count": 8,
          "metadata": {},
          "output_type": "execute_result"
        }
      ],
      "source": [
        "# Importamos pandas como pd, y creamos un DataFrame a partir del array bidimensional\n",
        "import pandas as pd\n",
        "df = pd.DataFrame(array_bidim)\n",
        "df"
      ]
    },
    {
      "cell_type": "code",
      "execution_count": 9,
      "metadata": {
        "id": "uxuBbWJlviZQ"
      },
      "outputs": [
        {
          "data": {
            "text/plain": [
              "array([[1., 1., 1.],\n",
              "       [1., 1., 1.],\n",
              "       [1., 1., 1.],\n",
              "       [1., 1., 1.]])"
            ]
          },
          "execution_count": 9,
          "metadata": {},
          "output_type": "execute_result"
        }
      ],
      "source": [
        "# Creamos un array de tamaño 4x3, formado únicamente por unos (1)\n",
        "unos = np.ones((4, 3)) #4 es el alto y 3 es el ancho\n",
        "unos"
      ]
    },
    {
      "cell_type": "code",
      "execution_count": 11,
      "metadata": {
        "id": "lf4ntwB-viZR"
      },
      "outputs": [
        {
          "data": {
            "text/plain": [
              "array([[[0., 0., 0.],\n",
              "        [0., 0., 0.],\n",
              "        [0., 0., 0.],\n",
              "        [0., 0., 0.]],\n",
              "\n",
              "       [[0., 0., 0.],\n",
              "        [0., 0., 0.],\n",
              "        [0., 0., 0.],\n",
              "        [0., 0., 0.]]])"
            ]
          },
          "execution_count": 11,
          "metadata": {},
          "output_type": "execute_result"
        }
      ],
      "source": [
        "# Creamos un array de tamaño 2x4x3, formado únicamente por ceros (0)\n",
        "ceros = np.zeros((2,4,3)) # 2 de profundidad, 4 de alto y tres de ancho\n",
        "ceros"
      ]
    },
    {
      "cell_type": "code",
      "execution_count": 13,
      "metadata": {
        "id": "HSJS5vPvviZS"
      },
      "outputs": [
        {
          "data": {
            "text/plain": [
              "array([ 0,  5, 10, 15, 20, 25, 30, 35, 40, 45, 50, 55, 60, 65, 70, 75, 80,\n",
              "       85, 90, 95])"
            ]
          },
          "execution_count": 13,
          "metadata": {},
          "output_type": "execute_result"
        }
      ],
      "source": [
        "# Creamos un array de números en el rango de 0 a 100, con un paso de 5\n",
        "array_1 = np.arange(0,100,5)\n",
        "array_1"
      ]
    },
    {
      "cell_type": "code",
      "execution_count": 16,
      "metadata": {
        "id": "IuSvyty3viZT"
      },
      "outputs": [
        {
          "data": {
            "text/plain": [
              "array([[5, 0, 4, 6, 5],\n",
              "       [3, 6, 2, 1, 3]])"
            ]
          },
          "execution_count": 16,
          "metadata": {},
          "output_type": "execute_result"
        }
      ],
      "source": [
        "# Creamos un array de números aleatorios enteros comprendidos en entre 0 y 10, de tamaño (2, 5)\n",
        "array_2 = np.random.randint(0,10, (2,5))\n",
        "array_2"
      ]
    },
    {
      "cell_type": "code",
      "execution_count": 17,
      "metadata": {
        "id": "grncP2mwviZT"
      },
      "outputs": [
        {
          "data": {
            "text/plain": [
              "array([[0.85598407, 0.65176882, 0.86693885, 0.28341997, 0.13968729],\n",
              "       [0.80924534, 0.99414885, 0.47498122, 0.48461907, 0.7776508 ],\n",
              "       [0.37848541, 0.99882376, 0.54970612, 0.04788137, 0.99717712]])"
            ]
          },
          "execution_count": 17,
          "metadata": {},
          "output_type": "execute_result"
        }
      ],
      "source": [
        "# Creamos un array de números aleatorios decimales comprendidos en entre 0 y 1, de tamaño (3, 5)\n",
        "array_3 = np.random.random((3,5))\n",
        "array_3"
      ]
    },
    {
      "cell_type": "code",
      "execution_count": 19,
      "metadata": {
        "id": "8pCexJ6zviZT"
      },
      "outputs": [
        {
          "data": {
            "text/plain": [
              "array([[3, 8, 8, 8, 0],\n",
              "       [5, 8, 9, 1, 2],\n",
              "       [1, 1, 4, 6, 3]])"
            ]
          },
          "execution_count": 19,
          "metadata": {},
          "output_type": "execute_result"
        }
      ],
      "source": [
        "# Establecemos la \"semilla\" de números aleatorios en 27. El random realizadó será siempre el mismo más allá de cuantas veces lo volvamos a ejecutar!!! \n",
        "np.random.seed(27)\n",
        "\n",
        "# Creamos un array de números aleatorios enteros comprendidos en entre 0 y 10, de tamaño (3, 5)\n",
        "array_4 = np.random.randint(0,10, (3, 5))\n",
        "array_4"
      ]
    },
    {
      "cell_type": "markdown",
      "metadata": {
        "id": "N41yqfNDviZU"
      },
      "source": [
        "¿Qué ocurre al correr la última celda nuevamente, a diferencia de las anteriores?"
      ]
    },
    {
      "cell_type": "code",
      "execution_count": 20,
      "metadata": {
        "id": "acrAc-j4viZY"
      },
      "outputs": [
        {
          "data": {
            "text/plain": [
              "array([0, 1, 2, 3, 4, 5, 6, 8, 9])"
            ]
          },
          "execution_count": 20,
          "metadata": {},
          "output_type": "execute_result"
        }
      ],
      "source": [
        "# Encontramos los valores únicos del array_4\n",
        "np.unique(array_4)"
      ]
    },
    {
      "cell_type": "code",
      "execution_count": 21,
      "metadata": {
        "id": "d-pXWguvviZZ"
      },
      "outputs": [
        {
          "data": {
            "text/plain": [
              "array([5, 8, 9, 1, 2])"
            ]
          },
          "execution_count": 21,
          "metadata": {},
          "output_type": "execute_result"
        }
      ],
      "source": [
        "# Extraemos el elemento de índice 1 del array_4\n",
        "array_4[1]"
      ]
    },
    {
      "cell_type": "code",
      "execution_count": 22,
      "metadata": {
        "id": "cVx_UouPviZa"
      },
      "outputs": [
        {
          "data": {
            "text/plain": [
              "array([[3, 8, 8, 8, 0],\n",
              "       [5, 8, 9, 1, 2]])"
            ]
          },
          "execution_count": 22,
          "metadata": {},
          "output_type": "execute_result"
        }
      ],
      "source": [
        "# Extraemos las primeras dos filas del array_4\n",
        "array_4[0:2]"
      ]
    },
    {
      "cell_type": "code",
      "execution_count": 23,
      "metadata": {
        "id": "rIsVaI-JviZa"
      },
      "outputs": [
        {
          "data": {
            "text/plain": [
              "array([[3, 8],\n",
              "       [5, 8]])"
            ]
          },
          "execution_count": 23,
          "metadata": {},
          "output_type": "execute_result"
        }
      ],
      "source": [
        "# Extraemos los dos primeros datos de las primeras dos filas del array_4\n",
        "array_4[0:2, 0:2]"
      ]
    },
    {
      "cell_type": "code",
      "execution_count": 26,
      "metadata": {
        "id": "3sw4JCF6viZb"
      },
      "outputs": [
        {
          "name": "stdout",
          "output_type": "stream",
          "text": [
            "[[1 1 7 0]\n",
            " [7 8 4 9]\n",
            " [0 4 7 0]]\n",
            "[[1. 1. 1. 1.]\n",
            " [1. 1. 1. 1.]\n",
            " [1. 1. 1. 1.]]\n"
          ]
        }
      ],
      "source": [
        "# Creamos dos arrays de tamaño 3x4: uno relleno de números aleatorios entre 0 y 10, y otro relleno de unos\n",
        "array_5 = np.random.randint(0,10, (3, 4))\n",
        "print(array_5)\n",
        "\n",
        "array_6 = np.ones((3, 4))\n",
        "print(array_6)"
      ]
    },
    {
      "cell_type": "code",
      "execution_count": 27,
      "metadata": {
        "id": "kVas2wqdviZb"
      },
      "outputs": [
        {
          "data": {
            "text/plain": [
              "array([[1, 1, 7, 0],\n",
              "       [7, 8, 4, 9],\n",
              "       [0, 4, 7, 0]])"
            ]
          },
          "execution_count": 27,
          "metadata": {},
          "output_type": "execute_result"
        }
      ],
      "source": [
        "# invocamos el array_5\n",
        "array_5"
      ]
    },
    {
      "cell_type": "code",
      "execution_count": 28,
      "metadata": {
        "id": "ZnZoUjRIviZb"
      },
      "outputs": [
        {
          "data": {
            "text/plain": [
              "array([[1., 1., 1., 1.],\n",
              "       [1., 1., 1., 1.],\n",
              "       [1., 1., 1., 1.]])"
            ]
          },
          "execution_count": 28,
          "metadata": {},
          "output_type": "execute_result"
        }
      ],
      "source": [
        "# invocamos el array_6\n",
        "array_6"
      ]
    },
    {
      "cell_type": "code",
      "execution_count": 29,
      "metadata": {
        "id": "EoBkbsHqviZb"
      },
      "outputs": [
        {
          "data": {
            "text/plain": [
              "array([[ 2.,  2.,  8.,  1.],\n",
              "       [ 8.,  9.,  5., 10.],\n",
              "       [ 1.,  5.,  8.,  1.]])"
            ]
          },
          "execution_count": 29,
          "metadata": {},
          "output_type": "execute_result"
        }
      ],
      "source": [
        "# Sumamos los dos arrays\n",
        "array_5 + array_6"
      ]
    },
    {
      "cell_type": "code",
      "execution_count": 30,
      "metadata": {
        "id": "493z2XKFviZc"
      },
      "outputs": [
        {
          "data": {
            "text/plain": [
              "array([[1., 1., 1.],\n",
              "       [1., 1., 1.],\n",
              "       [1., 1., 1.],\n",
              "       [1., 1., 1.]])"
            ]
          },
          "execution_count": 30,
          "metadata": {},
          "output_type": "execute_result"
        }
      ],
      "source": [
        "# Creamos ahora un array de tamaño (4,3) lleno de unos\n",
        "array_7 = np.ones((4, 3))\n",
        "array_7"
      ]
    },
    {
      "cell_type": "code",
      "execution_count": 31,
      "metadata": {
        "id": "f19RtdoYviZc"
      },
      "outputs": [
        {
          "ename": "ValueError",
          "evalue": "operands could not be broadcast together with shapes (3,4) (4,3) ",
          "output_type": "error",
          "traceback": [
            "\u001b[1;31m---------------------------------------------------------------------------\u001b[0m",
            "\u001b[1;31mValueError\u001b[0m                                Traceback (most recent call last)",
            "\u001b[1;32mc:\\Users\\mgobea\\Documents\\develop\\python_total\\15_day\\Python_TOTAL_Numpy.ipynb Cell 25\u001b[0m line \u001b[0;36m2\n\u001b[0;32m      <a href='vscode-notebook-cell:/c%3A/Users/mgobea/Documents/develop/python_total/15_day/Python_TOTAL_Numpy.ipynb#X33sZmlsZQ%3D%3D?line=0'>1</a>\u001b[0m \u001b[39m# Intentaremos sumar los arrays 6 y 7\u001b[39;00m\n\u001b[1;32m----> <a href='vscode-notebook-cell:/c%3A/Users/mgobea/Documents/develop/python_total/15_day/Python_TOTAL_Numpy.ipynb#X33sZmlsZQ%3D%3D?line=1'>2</a>\u001b[0m array_6 \u001b[39m+\u001b[39;49m array_7\n",
            "\u001b[1;31mValueError\u001b[0m: operands could not be broadcast together with shapes (3,4) (4,3) "
          ]
        }
      ],
      "source": [
        "# Intentaremos sumar los arrays 6 y 7\n",
        "array_6 + array_7"
      ]
    },
    {
      "cell_type": "markdown",
      "metadata": {
        "id": "wZKsfqU4viZc"
      },
      "source": [
        "¿A qué se debe el error anterior? ¿Qué deberíamos tener en cuenta para que no suceda?"
      ]
    },
    {
      "cell_type": "code",
      "execution_count": 33,
      "metadata": {},
      "outputs": [
        {
          "data": {
            "text/plain": [
              "array([[2., 2., 2., 2.],\n",
              "       [2., 2., 2., 2.],\n",
              "       [2., 2., 2., 2.]])"
            ]
          },
          "execution_count": 33,
          "metadata": {},
          "output_type": "execute_result"
        }
      ],
      "source": [
        "# Si tranpongo  las filas por las columnas entonces si podría:\n",
        "array_6 + array_7.T"
      ]
    },
    {
      "cell_type": "code",
      "execution_count": 35,
      "metadata": {
        "id": "obwyxLmWviZc"
      },
      "outputs": [
        {
          "data": {
            "text/plain": [
              "array([[1., 1., 1.],\n",
              "       [1., 1., 1.],\n",
              "       [1., 1., 1.],\n",
              "       [1., 1., 1.]])"
            ]
          },
          "execution_count": 35,
          "metadata": {},
          "output_type": "execute_result"
        }
      ],
      "source": [
        "# Entonces crearemos otro array de tamaño (4,3) lleno de unos\n",
        "array_8 = np.ones((4, 3))\n",
        "array_8"
      ]
    },
    {
      "cell_type": "code",
      "execution_count": 36,
      "metadata": {
        "id": "JyBEsQ5NviZd"
      },
      "outputs": [
        {
          "data": {
            "text/plain": [
              "array([[0., 0., 0.],\n",
              "       [0., 0., 0.],\n",
              "       [0., 0., 0.],\n",
              "       [0., 0., 0.]])"
            ]
          },
          "execution_count": 36,
          "metadata": {},
          "output_type": "execute_result"
        }
      ],
      "source": [
        "# Restamos el array_8 al array_7\n",
        "array_8 - array_7"
      ]
    },
    {
      "cell_type": "code",
      "execution_count": 39,
      "metadata": {
        "id": "utZb5NTzviZd"
      },
      "outputs": [],
      "source": [
        "# Creamos otros dos arrays de tamaño 3x3 con números aleatorios del 1 al 5\n",
        "array_9 = np.random.randint(1, 5, (3, 3))\n",
        "array_10 = np.random.randint(1, 5, (3, 3))"
      ]
    },
    {
      "cell_type": "code",
      "execution_count": 46,
      "metadata": {
        "id": "u1vV-B5C2vSk"
      },
      "outputs": [
        {
          "data": {
            "text/plain": [
              "array([[4, 2, 2],\n",
              "       [2, 1, 2],\n",
              "       [2, 2, 3]])"
            ]
          },
          "execution_count": 46,
          "metadata": {},
          "output_type": "execute_result"
        }
      ],
      "source": [
        "# invocamos el array_9\n",
        "array_9"
      ]
    },
    {
      "cell_type": "code",
      "execution_count": 47,
      "metadata": {
        "id": "79rO6fGL2wvE"
      },
      "outputs": [
        {
          "data": {
            "text/plain": [
              "array([[4, 3, 3],\n",
              "       [3, 2, 3],\n",
              "       [2, 1, 4]])"
            ]
          },
          "execution_count": 47,
          "metadata": {},
          "output_type": "execute_result"
        }
      ],
      "source": [
        "# invocamos el array_10\n",
        "array_10"
      ]
    },
    {
      "cell_type": "code",
      "execution_count": 44,
      "metadata": {
        "id": "ZhBCrrbKviZd"
      },
      "outputs": [
        {
          "data": {
            "text/plain": [
              "array([[16,  6,  6],\n",
              "       [ 6,  2,  6],\n",
              "       [ 4,  2, 12]])"
            ]
          },
          "execution_count": 44,
          "metadata": {},
          "output_type": "execute_result"
        }
      ],
      "source": [
        "# Multiplicamos los últimos dos arrays entre sí\n",
        "array_9 * array_10"
      ]
    },
    {
      "cell_type": "code",
      "execution_count": 48,
      "metadata": {
        "id": "-u-zydBZviZd"
      },
      "outputs": [
        {
          "data": {
            "text/plain": [
              "array([[16,  4,  4],\n",
              "       [ 4,  1,  4],\n",
              "       [ 4,  4,  9]])"
            ]
          },
          "execution_count": 48,
          "metadata": {},
          "output_type": "execute_result"
        }
      ],
      "source": [
        "# Elevamos el array_9 al cuadrado\n",
        "array_9 ** 2"
      ]
    },
    {
      "cell_type": "code",
      "execution_count": 49,
      "metadata": {
        "id": "dMEqsjSD3D6F"
      },
      "outputs": [
        {
          "data": {
            "text/plain": [
              "array([[2.        , 1.73205081, 1.73205081],\n",
              "       [1.73205081, 1.41421356, 1.73205081],\n",
              "       [1.41421356, 1.        , 2.        ]])"
            ]
          },
          "execution_count": 49,
          "metadata": {},
          "output_type": "execute_result"
        }
      ],
      "source": [
        "# Buscamos la raíz cuadrada del array_10\n",
        "np.sqrt(array_10)"
      ]
    },
    {
      "cell_type": "code",
      "execution_count": 50,
      "metadata": {
        "id": "4TlMFRRFviZd"
      },
      "outputs": [
        {
          "data": {
            "text/plain": [
              "2.2222222222222223"
            ]
          },
          "execution_count": 50,
          "metadata": {},
          "output_type": "execute_result"
        }
      ],
      "source": [
        "# Hallamos el promedio de los valores del array_9\n",
        "array_9.mean()"
      ]
    },
    {
      "cell_type": "code",
      "execution_count": 51,
      "metadata": {
        "id": "mu1-ASw7viZd"
      },
      "outputs": [
        {
          "data": {
            "text/plain": [
              "4"
            ]
          },
          "execution_count": 51,
          "metadata": {},
          "output_type": "execute_result"
        }
      ],
      "source": [
        "# Hallamos el valor máximo de los valores del array_9\n",
        "array_9.max()"
      ]
    },
    {
      "cell_type": "code",
      "execution_count": 52,
      "metadata": {
        "id": "iKAPHmnVviZe"
      },
      "outputs": [
        {
          "data": {
            "text/plain": [
              "1"
            ]
          },
          "execution_count": 52,
          "metadata": {},
          "output_type": "execute_result"
        }
      ],
      "source": [
        "# Hallamos el valor mínimo de los valores del array_9\n",
        "array_9.min()"
      ]
    },
    {
      "cell_type": "code",
      "execution_count": 53,
      "metadata": {
        "id": "K2N9WX6dviZe"
      },
      "outputs": [
        {
          "data": {
            "text/plain": [
              "array([[4],\n",
              "       [2],\n",
              "       [2],\n",
              "       [2],\n",
              "       [1],\n",
              "       [2],\n",
              "       [2],\n",
              "       [2],\n",
              "       [3]])"
            ]
          },
          "execution_count": 53,
          "metadata": {},
          "output_type": "execute_result"
        }
      ],
      "source": [
        "# Cambiamos la forma del array_9 por una de 9x1, y lo almacenamos como array_11\n",
        "array_11 = array_9.reshape((9, 1))\n",
        "array_11"
      ]
    },
    {
      "cell_type": "code",
      "execution_count": null,
      "metadata": {
        "id": "YM2wKMOk3vrJ"
      },
      "outputs": [],
      "source": [
        "# invocamos el array_11\n",
        "array_11"
      ]
    },
    {
      "cell_type": "code",
      "execution_count": 54,
      "metadata": {
        "id": "hjv049niviZe"
      },
      "outputs": [
        {
          "data": {
            "text/plain": [
              "array([[4, 2, 2, 2, 1, 2, 2, 2, 3]])"
            ]
          },
          "execution_count": 54,
          "metadata": {},
          "output_type": "execute_result"
        }
      ],
      "source": [
        "# Transponemos el array_11\n",
        "array_11.T"
      ]
    },
    {
      "cell_type": "code",
      "execution_count": 56,
      "metadata": {
        "id": "ygIkkZcwviZg"
      },
      "outputs": [
        {
          "data": {
            "text/plain": [
              "array([[False, False, False],\n",
              "       [False, False, False],\n",
              "       [False,  True, False]])"
            ]
          },
          "execution_count": 56,
          "metadata": {},
          "output_type": "execute_result"
        }
      ],
      "source": [
        "# Comparamos el array_9 y el array_10, para saber cuáles elementos del array_9 son mayores a los del array_10\n",
        "array_12 = array_9 > array_10\n",
        "array_12"
      ]
    },
    {
      "cell_type": "markdown",
      "metadata": {
        "id": "-MNVhc50viZg"
      },
      "source": [
        "¿Qué tipos de datos forman parte del array de resultados?"
      ]
    },
    {
      "cell_type": "code",
      "execution_count": 58,
      "metadata": {
        "id": "JRRyJjDdEUd4"
      },
      "outputs": [
        {
          "data": {
            "text/plain": [
              "dtype('bool')"
            ]
          },
          "execution_count": 58,
          "metadata": {},
          "output_type": "execute_result"
        }
      ],
      "source": [
        "# Veamos sus nuevos tipos de datos\n",
        "array_12.dtype"
      ]
    },
    {
      "cell_type": "code",
      "execution_count": 59,
      "metadata": {
        "id": "toyvK5rYviZh"
      },
      "outputs": [
        {
          "data": {
            "text/plain": [
              "array([[ True, False, False],\n",
              "       [False, False, False],\n",
              "       [ True, False, False]])"
            ]
          },
          "execution_count": 59,
          "metadata": {},
          "output_type": "execute_result"
        }
      ],
      "source": [
        "# Alguno de los elementos del array_9 es igual su equivalente del array_10?\n",
        "array_9 == array_10"
      ]
    },
    {
      "cell_type": "code",
      "execution_count": 60,
      "metadata": {
        "id": "FXguC1-UviZg"
      },
      "outputs": [
        {
          "data": {
            "text/plain": [
              "array([[ True, False, False],\n",
              "       [False, False, False],\n",
              "       [ True,  True, False]])"
            ]
          },
          "execution_count": 60,
          "metadata": {},
          "output_type": "execute_result"
        }
      ],
      "source": [
        "# Comparamos nuevamente ambos arrays, en esta ocasión con >=\n",
        "array_9 >= array_10"
      ]
    },
    {
      "cell_type": "code",
      "execution_count": 64,
      "metadata": {
        "id": "Ws2bJ0ZEviZg"
      },
      "outputs": [
        {
          "name": "stdout",
          "output_type": "stream",
          "text": [
            "True\n",
            "4\n",
            "False\n",
            "2\n",
            "False\n",
            "2\n",
            "False\n",
            "2\n",
            "False\n",
            "1\n",
            "False\n",
            "2\n",
            "False\n",
            "2\n",
            "False\n",
            "2\n",
            "True\n",
            "3\n"
          ]
        }
      ],
      "source": [
        "# Buscamos los elementos del array_9 que son mayores a 2\n",
        "array_12 = array_9 > 2\n",
        "for bool_sub_array, sub_array in zip(array_12, array_9):\n",
        "    for bool_scalar, scalar in zip(bool_sub_array, sub_array):\n",
        "        if bool_scalar == True:\n",
        "            print(scalar)"
      ]
    },
    {
      "cell_type": "code",
      "execution_count": null,
      "metadata": {
        "id": "z4XeFVsoviZh"
      },
      "outputs": [],
      "source": [
        "# Ordenamos de menor a mayor los elementos dentro del array_9"
      ]
    }
  ],
  "metadata": {
    "colab": {
      "provenance": []
    },
    "kernelspec": {
      "display_name": "Python 3",
      "name": "python3"
    },
    "language_info": {
      "codemirror_mode": {
        "name": "ipython",
        "version": 3
      },
      "file_extension": ".py",
      "mimetype": "text/x-python",
      "name": "python",
      "nbconvert_exporter": "python",
      "pygments_lexer": "ipython3",
      "version": "3.11.5"
    }
  },
  "nbformat": 4,
  "nbformat_minor": 0
}
