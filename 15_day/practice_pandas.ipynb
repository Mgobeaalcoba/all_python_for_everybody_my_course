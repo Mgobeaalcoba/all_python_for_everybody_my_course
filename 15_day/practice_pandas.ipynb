{
  "nbformat": 4,
  "nbformat_minor": 0,
  "metadata": {
    "colab": {
      "provenance": []
    },
    "kernelspec": {
      "name": "python3",
      "display_name": "Python 3"
    },
    "language_info": {
      "name": "python"
    }
  },
  "cells": [
    {
      "cell_type": "markdown",
      "metadata": {
        "id": "tfrteSLyUFsq"
      },
      "source": [
        "# Práctica de la librería Pandas\n",
        "\n",
        "En este notebook, se desarrollarán una serie de tareas utilizando la librería Pandas (el \"Excel\" de Python).\n",
        "\n",
        "Se proponen y documentan posibles formas de resolver los ejercicios, pero pueden existir varias formas de lograr los mismos resultados.\n",
        "\n",
        "Siempre es una buena idea verificar la [Documentación Oficial de Pandas](https://pandas.pydata.org/pandas-docs/stable/), donde es posible encontrar todo tipo de información referida a esta librería. Y si te quedas trabado, busca en Google \"como hacer [algo] con Pandas\". Hay enormes probabilidades de que esa pregunta ya haya sido respondida!"
      ]
    },
    {
      "cell_type": "code",
      "metadata": {
        "id": "kjRlSpvkUFst"
      },
      "source": [
        "# Importamos Pandas"
      ],
      "execution_count": null,
      "outputs": []
    },
    {
      "cell_type": "code",
      "metadata": {
        "id": "CpZNSwfr9nhF"
      },
      "source": [
        "# Creamos una serie de números y hallamos su media"
      ],
      "execution_count": null,
      "outputs": []
    },
    {
      "cell_type": "code",
      "metadata": {
        "id": "As2Q9Ffd9wLD"
      },
      "source": [
        "# Hallamos la suma de dichos números"
      ],
      "execution_count": null,
      "outputs": []
    },
    {
      "cell_type": "code",
      "metadata": {
        "id": "BOZmy50cUFsu"
      },
      "source": [
        "# Creamos una SERIE de tres colores diferentes"
      ],
      "execution_count": null,
      "outputs": []
    },
    {
      "cell_type": "code",
      "metadata": {
        "id": "tLU8EGy7UFsu"
      },
      "source": [
        "# Visualizamos la serie creada"
      ],
      "execution_count": null,
      "outputs": []
    },
    {
      "cell_type": "code",
      "metadata": {
        "id": "nKPbTddDUFsv"
      },
      "source": [
        "# Creamos una serie con tipos de autos, y la visualizamos"
      ],
      "execution_count": null,
      "outputs": []
    },
    {
      "cell_type": "code",
      "metadata": {
        "id": "j_J8ibN5UFsv"
      },
      "source": [
        "# Combinamos las series de tipos de autos y colores en un DATAFRAME"
      ],
      "execution_count": null,
      "outputs": []
    },
    {
      "cell_type": "code",
      "metadata": {
        "id": "pbZHZy0ZN2LB"
      },
      "source": [
        "# Conectamos el cuaderno actual con nuestro Drive"
      ],
      "execution_count": null,
      "outputs": []
    },
    {
      "cell_type": "code",
      "metadata": {
        "id": "MdPCrnQDApcr"
      },
      "source": [
        "# Importar \"ventas-autos.csv\" y convertirlo en un nuevo DATAFRAME"
      ],
      "execution_count": null,
      "outputs": []
    },
    {
      "cell_type": "markdown",
      "metadata": {
        "id": "shwBrNI3UFsw"
      },
      "source": [
        "Este será nuestro \"Dataframe de Flujo Vehicular\""
      ]
    },
    {
      "cell_type": "code",
      "metadata": {
        "id": "7vyLpU55UFsw"
      },
      "source": [
        "# Exportar el Dataframe como un archivo CSV a mi carpeta \"/content/drive/MyDrive/Colab Notebooks/pruebas/\""
      ],
      "execution_count": null,
      "outputs": []
    },
    {
      "cell_type": "code",
      "metadata": {
        "id": "6EHRZtORUFsx"
      },
      "source": [
        "# Analicemos los tipos de datos disponibles en el dataset de ventas autos"
      ],
      "execution_count": null,
      "outputs": []
    },
    {
      "cell_type": "code",
      "metadata": {
        "id": "tI87x3aFUFsx"
      },
      "source": [
        "# Apliquemos estadística descriptiva (cantidad de valores, media, desviación estándar, valores mínimos y máximos, cuartiles) al dataset"
      ],
      "execution_count": null,
      "outputs": []
    },
    {
      "cell_type": "code",
      "metadata": {
        "id": "2ogCTGXAUFsx"
      },
      "source": [
        "# Obtenemos información del dataset utilizando info()"
      ],
      "execution_count": null,
      "outputs": []
    },
    {
      "cell_type": "code",
      "metadata": {
        "id": "vrXn7t1NUFsy"
      },
      "source": [
        "# Listamos los nombres de las columnas de nuestro dataset"
      ],
      "execution_count": null,
      "outputs": []
    },
    {
      "cell_type": "code",
      "metadata": {
        "id": "HbvAvOeQUFsz"
      },
      "source": [
        "# Averiguamos el \"largo\" de nuestro dataset"
      ],
      "execution_count": null,
      "outputs": []
    },
    {
      "cell_type": "code",
      "metadata": {
        "id": "B0evbz8KUFsz"
      },
      "source": [
        "# Mostramos las primeras 5 filas del dataset"
      ],
      "execution_count": null,
      "outputs": []
    },
    {
      "cell_type": "code",
      "metadata": {
        "id": "2T_FVnZ1UFsz"
      },
      "source": [
        "# Mostramos las primeras 7 filas del dataset"
      ],
      "execution_count": null,
      "outputs": []
    },
    {
      "cell_type": "code",
      "metadata": {
        "id": "MxuHpE_6UFsz"
      },
      "source": [
        "# Mostramos las últimas 5 filas del dataset"
      ],
      "execution_count": null,
      "outputs": []
    },
    {
      "cell_type": "code",
      "metadata": {
        "id": "SmOFBACDUFs0"
      },
      "source": [
        "# Utilizamos .loc para seleccionar la fila de índice 3 del DataFrame"
      ],
      "execution_count": null,
      "outputs": []
    },
    {
      "cell_type": "code",
      "metadata": {
        "id": "IQtBd_WzUFs0"
      },
      "source": [
        "# Utilizamos .iloc para seleccionar las filas 3, 7 y 9"
      ],
      "execution_count": null,
      "outputs": []
    },
    {
      "cell_type": "markdown",
      "metadata": {
        "id": "paiTpD-7UFs0"
      },
      "source": [
        "En la documentación podrás observar la diferencia entre el funcionamiento de [.loc](https://pandas.pydata.org/pandas-docs/stable/reference/api/pandas.DataFrame.loc.html) e [.iloc](https://pandas.pydata.org/pandas-docs/stable/reference/api/pandas.DataFrame.iloc.html)."
      ]
    },
    {
      "cell_type": "code",
      "metadata": {
        "id": "NjGaSi8MUFs1"
      },
      "source": [
        "# Seleccionar la columna \"Kilometraje\""
      ],
      "execution_count": null,
      "outputs": []
    },
    {
      "cell_type": "code",
      "metadata": {
        "id": "HheZGw_WUFs1"
      },
      "source": [
        "# Encontrar el valor medio de la columnas \"Kilometraje\""
      ],
      "execution_count": null,
      "outputs": []
    },
    {
      "cell_type": "code",
      "metadata": {
        "id": "8HoW_HN7UFs1"
      },
      "source": [
        "# Seleccionar aquellas columnas que tengan valores superiores a 100,000 kilómetros en la columna Kilometraje"
      ],
      "execution_count": null,
      "outputs": []
    },
    {
      "cell_type": "code",
      "metadata": {
        "id": "d5feBHidUFs2"
      },
      "source": [
        "# Creamos una tabla cruzada de doble entrada entre Fabricante y cantidad de puertas"
      ],
      "execution_count": null,
      "outputs": []
    },
    {
      "cell_type": "code",
      "metadata": {
        "id": "-93nEBP4UFs2"
      },
      "source": [
        "# Agrupamos las columnas por fabricante y buscandos el valor medio de las columnas numéricas"
      ],
      "execution_count": null,
      "outputs": []
    },
    {
      "cell_type": "code",
      "metadata": {
        "id": "uPNNZb1vUFs2"
      },
      "source": [
        "# Importamos Matplotlib y creamos un gráfico con los valores de la columna Kilometraje"
      ],
      "execution_count": null,
      "outputs": []
    },
    {
      "cell_type": "code",
      "metadata": {
        "id": "Ky0MrZ1nUFs2"
      },
      "source": [
        "# Puede que un gráfico más apropiado en este caso sea un histograma?"
      ],
      "execution_count": null,
      "outputs": []
    },
    {
      "cell_type": "code",
      "metadata": {
        "id": "t4Tsk1YcUFs3"
      },
      "source": [
        "# Intentamos graficar la columna de precios"
      ],
      "execution_count": null,
      "outputs": []
    },
    {
      "cell_type": "markdown",
      "metadata": {
        "id": "324IZkxGUFs3"
      },
      "source": [
        "No funcionó, verdad? Alguna idea de por qué esto puede ocurrir?\n",
        "\n",
        "Una pista es buscar: \"cómo convertir strings de Pandas a números\"\n",
        "\n",
        "[Aqui hay un enlace a StackOverflow referido a este tema](https://stackoverflow.com/questions/44469313/price-column-object-to-int-in-pandas)."
      ]
    },
    {
      "cell_type": "code",
      "metadata": {
        "id": "Tk88hQNoUFs3"
      },
      "source": [
        "# Elimina la puntuación de la columna de precios"
      ],
      "execution_count": null,
      "outputs": []
    }
  ]
}